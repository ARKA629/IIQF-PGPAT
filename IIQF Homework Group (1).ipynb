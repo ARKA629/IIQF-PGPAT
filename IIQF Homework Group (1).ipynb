{
 "cells": [
  {
   "cell_type": "markdown",
   "metadata": {},
   "source": [
    "# The Task is - Pull data from web, convert to csv, upload to a data server, Execute SQL queries on the data"
   ]
  },
  {
   "cell_type": "code",
   "execution_count": 1,
   "metadata": {},
   "outputs": [],
   "source": [
    "# Pull stock data from yahoo\n",
    "# install required packages\n",
    "#!pip install pandas_datareader"
   ]
  },
  {
   "cell_type": "markdown",
   "metadata": {},
   "source": [
    "Import required packages"
   ]
  },
  {
   "cell_type": "code",
   "execution_count": 4,
   "metadata": {},
   "outputs": [],
   "source": [
    "import pandas as pd\n",
    "import numpy as np\n",
    "import matplotlib.pyplot as plt\n",
    "import pandas_datareader as dr\n",
    "from datetime import date\n",
    "from datetime import timedelta"
   ]
  },
  {
   "cell_type": "markdown",
   "metadata": {},
   "source": [
    "Initializing process. Creating list of stocks and seeting a date range (10 days) to extract data"
   ]
  },
  {
   "cell_type": "code",
   "execution_count": 5,
   "metadata": {},
   "outputs": [],
   "source": [
    "# List of stocks\n",
    "stocks = ['ADANIPORTS','ASIANPAINT','AXISBANK','BAJAJ-AUTO','BAJFINANCE','BAJAJFINSV','BPCL','CIPLA','COALINDIA','DRREDDY','EICHERMOT','GAIL','GRASIM','HCLTECH','HDFCBANK','HEROMOTOCO','HINDALCO','HINDPETRO','HINDUNILVR','HDFC','ITC','ICICIBANK','IBULHSGFIN','IOC','INDUSINDBK','INFY','KOTAKBANK','LT','LUPIN','M&M','MARUTI','NTPC','ONGC','POWERGRID','RELIANCE','SBIN','SUNPHARMA','TCS','TATAMOTORS']\n",
    "\n",
    "# setting date range\n",
    "today = date.today()\n",
    "day_diff = timedelta(1)\n",
    "end_dt = today - day_diff\n",
    "day_diff = timedelta(10)\n",
    "start_dt = today - day_diff"
   ]
  },
  {
   "cell_type": "markdown",
   "metadata": {},
   "source": [
    "Looping through list of stock and pulling data for fixed date range (6 working days for each stock) from yahoo"
   ]
  },
  {
   "cell_type": "code",
   "execution_count": 6,
   "metadata": {},
   "outputs": [
    {
     "data": {
      "text/html": [
       "<div>\n",
       "<style scoped>\n",
       "    .dataframe tbody tr th:only-of-type {\n",
       "        vertical-align: middle;\n",
       "    }\n",
       "\n",
       "    .dataframe tbody tr th {\n",
       "        vertical-align: top;\n",
       "    }\n",
       "\n",
       "    .dataframe thead th {\n",
       "        text-align: right;\n",
       "    }\n",
       "</style>\n",
       "<table border=\"1\" class=\"dataframe\">\n",
       "  <thead>\n",
       "    <tr style=\"text-align: right;\">\n",
       "      <th></th>\n",
       "      <th>Date</th>\n",
       "      <th>High</th>\n",
       "      <th>Low</th>\n",
       "      <th>Open</th>\n",
       "      <th>Close</th>\n",
       "      <th>Volume</th>\n",
       "      <th>Adj Close</th>\n",
       "      <th>Stock</th>\n",
       "    </tr>\n",
       "  </thead>\n",
       "  <tbody>\n",
       "    <tr>\n",
       "      <th>0</th>\n",
       "      <td>2022-04-27</td>\n",
       "      <td>924.650024</td>\n",
       "      <td>880.000000</td>\n",
       "      <td>914.049988</td>\n",
       "      <td>887.299988</td>\n",
       "      <td>20793885</td>\n",
       "      <td>887.299988</td>\n",
       "      <td>ADANIPORTS</td>\n",
       "    </tr>\n",
       "    <tr>\n",
       "      <th>1</th>\n",
       "      <td>2022-04-28</td>\n",
       "      <td>900.250000</td>\n",
       "      <td>876.799988</td>\n",
       "      <td>899.000000</td>\n",
       "      <td>887.099976</td>\n",
       "      <td>8778304</td>\n",
       "      <td>887.099976</td>\n",
       "      <td>ADANIPORTS</td>\n",
       "    </tr>\n",
       "    <tr>\n",
       "      <th>2</th>\n",
       "      <td>2022-04-29</td>\n",
       "      <td>898.900024</td>\n",
       "      <td>852.099976</td>\n",
       "      <td>892.700012</td>\n",
       "      <td>856.400024</td>\n",
       "      <td>11543840</td>\n",
       "      <td>856.400024</td>\n",
       "      <td>ADANIPORTS</td>\n",
       "    </tr>\n",
       "    <tr>\n",
       "      <th>3</th>\n",
       "      <td>2022-05-02</td>\n",
       "      <td>862.849976</td>\n",
       "      <td>838.049988</td>\n",
       "      <td>850.000000</td>\n",
       "      <td>856.549988</td>\n",
       "      <td>5760499</td>\n",
       "      <td>856.549988</td>\n",
       "      <td>ADANIPORTS</td>\n",
       "    </tr>\n",
       "    <tr>\n",
       "      <th>4</th>\n",
       "      <td>2022-05-04</td>\n",
       "      <td>864.200012</td>\n",
       "      <td>805.799988</td>\n",
       "      <td>860.500000</td>\n",
       "      <td>812.799988</td>\n",
       "      <td>7969164</td>\n",
       "      <td>812.799988</td>\n",
       "      <td>ADANIPORTS</td>\n",
       "    </tr>\n",
       "  </tbody>\n",
       "</table>\n",
       "</div>"
      ],
      "text/plain": [
       "        Date        High         Low        Open       Close    Volume  \\\n",
       "0 2022-04-27  924.650024  880.000000  914.049988  887.299988  20793885   \n",
       "1 2022-04-28  900.250000  876.799988  899.000000  887.099976   8778304   \n",
       "2 2022-04-29  898.900024  852.099976  892.700012  856.400024  11543840   \n",
       "3 2022-05-02  862.849976  838.049988  850.000000  856.549988   5760499   \n",
       "4 2022-05-04  864.200012  805.799988  860.500000  812.799988   7969164   \n",
       "\n",
       "    Adj Close       Stock  \n",
       "0  887.299988  ADANIPORTS  \n",
       "1  887.099976  ADANIPORTS  \n",
       "2  856.400024  ADANIPORTS  \n",
       "3  856.549988  ADANIPORTS  \n",
       "4  812.799988  ADANIPORTS  "
      ]
     },
     "execution_count": 6,
     "metadata": {},
     "output_type": "execute_result"
    }
   ],
   "source": [
    "df = pd.DataFrame(columns=['Date', 'High', 'Low', 'Open', 'Close', 'Volume', 'Adj Close','Stock'])\n",
    "\n",
    "for stock in stocks:    \n",
    "    df_stock = dr.DataReader(f\"{stock}.NS\", data_source = \"yahoo\",start=start_dt,end=end_dt)\n",
    "    \n",
    "    # Reseting index to default pandas index. In Raw data date was set as index\n",
    "    \n",
    "    df_stock2 = df_stock.reset_index(col_level=1)\n",
    "    \n",
    "    # creating new column 'Stock' which will contain the name of stock. It's not in raw data but will be useful for identification of stock\n",
    "    \n",
    "    df_stock2['Stock'] = stock\n",
    "    df = df.append(df_stock2)\n",
    "    \n",
    "\n",
    "df.head()"
   ]
  },
  {
   "cell_type": "code",
   "execution_count": 7,
   "metadata": {},
   "outputs": [
    {
     "name": "stdout",
     "output_type": "stream",
     "text": [
      "<class 'pandas.core.frame.DataFrame'>\n",
      "Int64Index: 273 entries, 0 to 6\n",
      "Data columns (total 8 columns):\n",
      " #   Column     Non-Null Count  Dtype         \n",
      "---  ------     --------------  -----         \n",
      " 0   Date       273 non-null    datetime64[ns]\n",
      " 1   High       273 non-null    float64       \n",
      " 2   Low        273 non-null    float64       \n",
      " 3   Open       273 non-null    float64       \n",
      " 4   Close      273 non-null    float64       \n",
      " 5   Volume     273 non-null    object        \n",
      " 6   Adj Close  273 non-null    float64       \n",
      " 7   Stock      273 non-null    object        \n",
      "dtypes: datetime64[ns](1), float64(5), object(2)\n",
      "memory usage: 19.2+ KB\n"
     ]
    }
   ],
   "source": [
    "df.info()"
   ]
  },
  {
   "cell_type": "markdown",
   "metadata": {},
   "source": [
    "Exporting dataframe as CSV to user-defined location"
   ]
  },
  {
   "cell_type": "code",
   "execution_count": 6,
   "metadata": {},
   "outputs": [],
   "source": [
    "df.to_csv(r'/Users/arkadutta/Desktop/IIQF PGPAT/stock_data_test.csv',index=True, header=True)"
   ]
  },
  {
   "cell_type": "code",
   "execution_count": null,
   "metadata": {},
   "outputs": [],
   "source": []
  },
  {
   "cell_type": "markdown",
   "metadata": {},
   "source": [
    "SQL Part"
   ]
  },
  {
   "cell_type": "code",
   "execution_count": null,
   "metadata": {},
   "outputs": [],
   "source": []
  },
  {
   "cell_type": "code",
   "execution_count": 9,
   "metadata": {},
   "outputs": [],
   "source": [
    "#!pip install pymysql"
   ]
  },
  {
   "cell_type": "code",
   "execution_count": 10,
   "metadata": {},
   "outputs": [],
   "source": [
    "#!pip install sqlalchemy"
   ]
  },
  {
   "cell_type": "code",
   "execution_count": 1,
   "metadata": {},
   "outputs": [],
   "source": [
    "import pymysql\n",
    "from sqlalchemy import create_engine"
   ]
  },
  {
   "cell_type": "code",
   "execution_count": 1,
   "metadata": {},
   "outputs": [],
   "source": [
    "userid = 'Your user id as string'\n",
    "pwd = 'Your password as string'\n",
    "db = 'Your Database Name'\n",
    "host = 'Host Name where you have created the db'\n"
   ]
  },
  {
   "cell_type": "code",
   "execution_count": null,
   "metadata": {},
   "outputs": [],
   "source": [
    "engine = create_engine(f'mysql+pymysql://{userid}:{pwd}@{host}/{db}')"
   ]
  },
  {
   "cell_type": "code",
   "execution_count": 9,
   "metadata": {},
   "outputs": [],
   "source": [
    "df.to_sql(con = engine, name = 'stock_data', if_exists= 'replace', index = True) # uploading table to DB"
   ]
  },
  {
   "cell_type": "code",
   "execution_count": 25,
   "metadata": {},
   "outputs": [
    {
     "data": {
      "text/html": [
       "<div>\n",
       "<style scoped>\n",
       "    .dataframe tbody tr th:only-of-type {\n",
       "        vertical-align: middle;\n",
       "    }\n",
       "\n",
       "    .dataframe tbody tr th {\n",
       "        vertical-align: top;\n",
       "    }\n",
       "\n",
       "    .dataframe thead th {\n",
       "        text-align: right;\n",
       "    }\n",
       "</style>\n",
       "<table border=\"1\" class=\"dataframe\">\n",
       "  <thead>\n",
       "    <tr style=\"text-align: right;\">\n",
       "      <th></th>\n",
       "      <th>DATE</th>\n",
       "      <th>STOCK</th>\n",
       "      <th>CLOSE</th>\n",
       "      <th>OPEN</th>\n",
       "    </tr>\n",
       "  </thead>\n",
       "  <tbody>\n",
       "    <tr>\n",
       "      <th>0</th>\n",
       "      <td>2022-04-25</td>\n",
       "      <td>ADANIPORTS</td>\n",
       "      <td>859.549988</td>\n",
       "      <td>873.950012</td>\n",
       "    </tr>\n",
       "    <tr>\n",
       "      <th>1</th>\n",
       "      <td>2022-04-26</td>\n",
       "      <td>ADANIPORTS</td>\n",
       "      <td>909.500000</td>\n",
       "      <td>868.000000</td>\n",
       "    </tr>\n",
       "    <tr>\n",
       "      <th>2</th>\n",
       "      <td>2022-04-27</td>\n",
       "      <td>ADANIPORTS</td>\n",
       "      <td>887.299988</td>\n",
       "      <td>914.049988</td>\n",
       "    </tr>\n",
       "    <tr>\n",
       "      <th>3</th>\n",
       "      <td>2022-04-28</td>\n",
       "      <td>ADANIPORTS</td>\n",
       "      <td>887.099976</td>\n",
       "      <td>899.000000</td>\n",
       "    </tr>\n",
       "    <tr>\n",
       "      <th>4</th>\n",
       "      <td>2022-04-29</td>\n",
       "      <td>ADANIPORTS</td>\n",
       "      <td>856.400024</td>\n",
       "      <td>892.700012</td>\n",
       "    </tr>\n",
       "  </tbody>\n",
       "</table>\n",
       "</div>"
      ],
      "text/plain": [
       "        DATE       STOCK       CLOSE        OPEN\n",
       "0 2022-04-25  ADANIPORTS  859.549988  873.950012\n",
       "1 2022-04-26  ADANIPORTS  909.500000  868.000000\n",
       "2 2022-04-27  ADANIPORTS  887.299988  914.049988\n",
       "3 2022-04-28  ADANIPORTS  887.099976  899.000000\n",
       "4 2022-04-29  ADANIPORTS  856.400024  892.700012"
      ]
     },
     "execution_count": 25,
     "metadata": {},
     "output_type": "execute_result"
    }
   ],
   "source": [
    "query = \"SELECT DATE, STOCK , CLOSE, OPEN FROM stock_data\"\n",
    "df2 = pd.read_sql(query, engine)\n",
    "df2.head()"
   ]
  },
  {
   "cell_type": "code",
   "execution_count": 32,
   "metadata": {},
   "outputs": [],
   "source": [
    "query = \"select DATE, STOCK, CLOSE, OPEN, (CLOSE-OPEN)/OPEN as stock_return from stock_data\"\n",
    "df2 = pd.read_sql(query, engine)\n"
   ]
  },
  {
   "cell_type": "code",
   "execution_count": 33,
   "metadata": {},
   "outputs": [
    {
     "data": {
      "text/html": [
       "<div>\n",
       "<style scoped>\n",
       "    .dataframe tbody tr th:only-of-type {\n",
       "        vertical-align: middle;\n",
       "    }\n",
       "\n",
       "    .dataframe tbody tr th {\n",
       "        vertical-align: top;\n",
       "    }\n",
       "\n",
       "    .dataframe thead th {\n",
       "        text-align: right;\n",
       "    }\n",
       "</style>\n",
       "<table border=\"1\" class=\"dataframe\">\n",
       "  <thead>\n",
       "    <tr style=\"text-align: right;\">\n",
       "      <th></th>\n",
       "      <th>DATE</th>\n",
       "      <th>STOCK</th>\n",
       "      <th>CLOSE</th>\n",
       "      <th>OPEN</th>\n",
       "      <th>stock_return</th>\n",
       "    </tr>\n",
       "  </thead>\n",
       "  <tbody>\n",
       "    <tr>\n",
       "      <th>0</th>\n",
       "      <td>2022-04-27</td>\n",
       "      <td>ADANIPORTS</td>\n",
       "      <td>887.299988</td>\n",
       "      <td>914.049988</td>\n",
       "      <td>-0.029265</td>\n",
       "    </tr>\n",
       "    <tr>\n",
       "      <th>1</th>\n",
       "      <td>2022-04-28</td>\n",
       "      <td>ADANIPORTS</td>\n",
       "      <td>887.099976</td>\n",
       "      <td>899.000000</td>\n",
       "      <td>-0.013237</td>\n",
       "    </tr>\n",
       "    <tr>\n",
       "      <th>2</th>\n",
       "      <td>2022-04-29</td>\n",
       "      <td>ADANIPORTS</td>\n",
       "      <td>856.400024</td>\n",
       "      <td>892.700012</td>\n",
       "      <td>-0.040663</td>\n",
       "    </tr>\n",
       "    <tr>\n",
       "      <th>3</th>\n",
       "      <td>2022-05-02</td>\n",
       "      <td>ADANIPORTS</td>\n",
       "      <td>856.549988</td>\n",
       "      <td>850.000000</td>\n",
       "      <td>0.007706</td>\n",
       "    </tr>\n",
       "    <tr>\n",
       "      <th>4</th>\n",
       "      <td>2022-05-04</td>\n",
       "      <td>ADANIPORTS</td>\n",
       "      <td>812.799988</td>\n",
       "      <td>860.500000</td>\n",
       "      <td>-0.055433</td>\n",
       "    </tr>\n",
       "  </tbody>\n",
       "</table>\n",
       "</div>"
      ],
      "text/plain": [
       "        DATE       STOCK       CLOSE        OPEN  stock_return\n",
       "0 2022-04-27  ADANIPORTS  887.299988  914.049988     -0.029265\n",
       "1 2022-04-28  ADANIPORTS  887.099976  899.000000     -0.013237\n",
       "2 2022-04-29  ADANIPORTS  856.400024  892.700012     -0.040663\n",
       "3 2022-05-02  ADANIPORTS  856.549988  850.000000      0.007706\n",
       "4 2022-05-04  ADANIPORTS  812.799988  860.500000     -0.055433"
      ]
     },
     "execution_count": 33,
     "metadata": {},
     "output_type": "execute_result"
    }
   ],
   "source": [
    "df2.head()"
   ]
  },
  {
   "cell_type": "code",
   "execution_count": 34,
   "metadata": {},
   "outputs": [],
   "source": [
    "df2.to_sql(con = engine, name = 'stock_data2', if_exists= 'replace', index = True)"
   ]
  },
  {
   "cell_type": "code",
   "execution_count": 42,
   "metadata": {},
   "outputs": [
    {
     "data": {
      "text/html": [
       "<div>\n",
       "<style scoped>\n",
       "    .dataframe tbody tr th:only-of-type {\n",
       "        vertical-align: middle;\n",
       "    }\n",
       "\n",
       "    .dataframe tbody tr th {\n",
       "        vertical-align: top;\n",
       "    }\n",
       "\n",
       "    .dataframe thead th {\n",
       "        text-align: right;\n",
       "    }\n",
       "</style>\n",
       "<table border=\"1\" class=\"dataframe\">\n",
       "  <thead>\n",
       "    <tr style=\"text-align: right;\">\n",
       "      <th></th>\n",
       "      <th>index</th>\n",
       "      <th>DATE</th>\n",
       "      <th>STOCK</th>\n",
       "      <th>CLOSE</th>\n",
       "      <th>OPEN</th>\n",
       "      <th>stock_return</th>\n",
       "    </tr>\n",
       "  </thead>\n",
       "  <tbody>\n",
       "    <tr>\n",
       "      <th>0</th>\n",
       "      <td>8</td>\n",
       "      <td>2022-04-28</td>\n",
       "      <td>ASIANPAINT</td>\n",
       "      <td>3247.699951</td>\n",
       "      <td>3190.000000</td>\n",
       "      <td>0.018088</td>\n",
       "    </tr>\n",
       "    <tr>\n",
       "      <th>1</th>\n",
       "      <td>105</td>\n",
       "      <td>2022-04-27</td>\n",
       "      <td>HEROMOTOCO</td>\n",
       "      <td>2500.000000</td>\n",
       "      <td>2390.000000</td>\n",
       "      <td>0.046025</td>\n",
       "    </tr>\n",
       "    <tr>\n",
       "      <th>2</th>\n",
       "      <td>110</td>\n",
       "      <td>2022-05-05</td>\n",
       "      <td>HEROMOTOCO</td>\n",
       "      <td>2501.649902</td>\n",
       "      <td>2430.100098</td>\n",
       "      <td>0.029443</td>\n",
       "    </tr>\n",
       "    <tr>\n",
       "      <th>3</th>\n",
       "      <td>111</td>\n",
       "      <td>2022-05-06</td>\n",
       "      <td>HEROMOTOCO</td>\n",
       "      <td>2563.350098</td>\n",
       "      <td>2410.000000</td>\n",
       "      <td>0.063631</td>\n",
       "    </tr>\n",
       "    <tr>\n",
       "      <th>4</th>\n",
       "      <td>171</td>\n",
       "      <td>2022-05-02</td>\n",
       "      <td>INDUSINDBK</td>\n",
       "      <td>1018.099976</td>\n",
       "      <td>972.000000</td>\n",
       "      <td>0.047428</td>\n",
       "    </tr>\n",
       "    <tr>\n",
       "      <th>5</th>\n",
       "      <td>184</td>\n",
       "      <td>2022-04-29</td>\n",
       "      <td>KOTAKBANK</td>\n",
       "      <td>1790.750000</td>\n",
       "      <td>1768.949951</td>\n",
       "      <td>0.012324</td>\n",
       "    </tr>\n",
       "    <tr>\n",
       "      <th>6</th>\n",
       "      <td>228</td>\n",
       "      <td>2022-05-04</td>\n",
       "      <td>ONGC</td>\n",
       "      <td>162.250000</td>\n",
       "      <td>159.000000</td>\n",
       "      <td>0.020440</td>\n",
       "    </tr>\n",
       "  </tbody>\n",
       "</table>\n",
       "</div>"
      ],
      "text/plain": [
       "   index       DATE       STOCK        CLOSE         OPEN  stock_return\n",
       "0      8 2022-04-28  ASIANPAINT  3247.699951  3190.000000      0.018088\n",
       "1    105 2022-04-27  HEROMOTOCO  2500.000000  2390.000000      0.046025\n",
       "2    110 2022-05-05  HEROMOTOCO  2501.649902  2430.100098      0.029443\n",
       "3    111 2022-05-06  HEROMOTOCO  2563.350098  2410.000000      0.063631\n",
       "4    171 2022-05-02  INDUSINDBK  1018.099976   972.000000      0.047428\n",
       "5    184 2022-04-29   KOTAKBANK  1790.750000  1768.949951      0.012324\n",
       "6    228 2022-05-04        ONGC   162.250000   159.000000      0.020440"
      ]
     },
     "execution_count": 42,
     "metadata": {},
     "output_type": "execute_result"
    }
   ],
   "source": [
    "query = \"select * from stock_data2 where stock_return in (select MAX(stock_return) as stock_return_max from stock_data2 group by DATE)\"\n",
    "df2 = pd.read_sql(query, engine)\n",
    "df2"
   ]
  },
  {
   "cell_type": "code",
   "execution_count": 49,
   "metadata": {},
   "outputs": [
    {
     "data": {
      "text/html": [
       "<div>\n",
       "<style scoped>\n",
       "    .dataframe tbody tr th:only-of-type {\n",
       "        vertical-align: middle;\n",
       "    }\n",
       "\n",
       "    .dataframe tbody tr th {\n",
       "        vertical-align: top;\n",
       "    }\n",
       "\n",
       "    .dataframe thead th {\n",
       "        text-align: right;\n",
       "    }\n",
       "</style>\n",
       "<table border=\"1\" class=\"dataframe\">\n",
       "  <thead>\n",
       "    <tr style=\"text-align: right;\">\n",
       "      <th></th>\n",
       "      <th>num_stocks</th>\n",
       "      <th>num_days</th>\n",
       "    </tr>\n",
       "  </thead>\n",
       "  <tbody>\n",
       "    <tr>\n",
       "      <th>0</th>\n",
       "      <td>39</td>\n",
       "      <td>7</td>\n",
       "    </tr>\n",
       "  </tbody>\n",
       "</table>\n",
       "</div>"
      ],
      "text/plain": [
       "   num_stocks  num_days\n",
       "0          39         7"
      ]
     },
     "execution_count": 49,
     "metadata": {},
     "output_type": "execute_result"
    }
   ],
   "source": [
    "query = \"select count(distinct STOCK) as num_stocks, count(distinct DATE) as num_days from stock_data2\"\n",
    "pd.read_sql(query, engine)"
   ]
  },
  {
   "cell_type": "code",
   "execution_count": null,
   "metadata": {},
   "outputs": [],
   "source": []
  },
  {
   "cell_type": "code",
   "execution_count": null,
   "metadata": {},
   "outputs": [],
   "source": []
  },
  {
   "cell_type": "code",
   "execution_count": null,
   "metadata": {},
   "outputs": [],
   "source": []
  },
  {
   "cell_type": "code",
   "execution_count": null,
   "metadata": {},
   "outputs": [],
   "source": []
  }
 ],
 "metadata": {
  "kernelspec": {
   "display_name": "Python 3",
   "language": "python",
   "name": "python3"
  },
  "language_info": {
   "codemirror_mode": {
    "name": "ipython",
    "version": 3
   },
   "file_extension": ".py",
   "mimetype": "text/x-python",
   "name": "python",
   "nbconvert_exporter": "python",
   "pygments_lexer": "ipython3",
   "version": "3.7.4"
  }
 },
 "nbformat": 4,
 "nbformat_minor": 2
}
